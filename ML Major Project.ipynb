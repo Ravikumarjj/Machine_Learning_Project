{
 "cells": [
  {
   "cell_type": "markdown",
   "id": "824f584b",
   "metadata": {},
   "source": [
    "# ML Major Project"
   ]
  },
  {
   "cell_type": "markdown",
   "id": "db352bf0",
   "metadata": {},
   "source": [
    "\n",
    "Name: Ravi kumar kanu baniya\n"
   ]
  },
  {
   "cell_type": "code",
   "execution_count": 6,
   "id": "8ec545bf",
   "metadata": {},
   "outputs": [],
   "source": [
    "import pandas as pd\n",
    "import numpy as np\n",
    "import seaborn as sns\n",
    "import matplotlib.pyplot as plt\n",
    "from sklearn.model_selection import train_test_split\n",
    "\n",
    "from sklearn import linear_model\n",
    "from sklearn.linear_model import LogisticRegression\n",
    "from sklearn.neighbors import KNeighborsClassifier\n",
    "from sklearn.ensemble import RandomForestClassifier\n",
    "from sklearn.tree import DecisionTreeClassifier\n",
    "from sklearn.svm import SVC, LinearSVC\n",
    "from sklearn.metrics import accuracy_score, confusion_matrix,recall_score,precision_score\n",
    "from sklearn.model_selection import cross_validate\n"
   ]
  },
  {
   "cell_type": "code",
   "execution_count": 7,
   "id": "4d42be08",
   "metadata": {},
   "outputs": [],
   "source": [
    "data = pd.read_csv('data.csv')"
   ]
  },
  {
   "cell_type": "code",
   "execution_count": 8,
   "id": "a66111dd",
   "metadata": {},
   "outputs": [
    {
     "data": {
      "text/html": [
       "<div>\n",
       "<style scoped>\n",
       "    .dataframe tbody tr th:only-of-type {\n",
       "        vertical-align: middle;\n",
       "    }\n",
       "\n",
       "    .dataframe tbody tr th {\n",
       "        vertical-align: top;\n",
       "    }\n",
       "\n",
       "    .dataframe thead th {\n",
       "        text-align: right;\n",
       "    }\n",
       "</style>\n",
       "<table border=\"1\" class=\"dataframe\">\n",
       "  <thead>\n",
       "    <tr style=\"text-align: right;\">\n",
       "      <th></th>\n",
       "      <th>year</th>\n",
       "      <th>customer_id</th>\n",
       "      <th>phone_no</th>\n",
       "      <th>gender</th>\n",
       "      <th>age</th>\n",
       "      <th>no_of_days_subscribed</th>\n",
       "      <th>multi_screen</th>\n",
       "      <th>mail_subscribed</th>\n",
       "      <th>weekly_mins_watched</th>\n",
       "      <th>minimum_daily_mins</th>\n",
       "      <th>maximum_daily_mins</th>\n",
       "      <th>weekly_max_night_mins</th>\n",
       "      <th>videos_watched</th>\n",
       "      <th>maximum_days_inactive</th>\n",
       "      <th>customer_support_calls</th>\n",
       "      <th>churn</th>\n",
       "    </tr>\n",
       "  </thead>\n",
       "  <tbody>\n",
       "    <tr>\n",
       "      <th>0</th>\n",
       "      <td>2015</td>\n",
       "      <td>100198</td>\n",
       "      <td>409-8743</td>\n",
       "      <td>Female</td>\n",
       "      <td>36</td>\n",
       "      <td>62</td>\n",
       "      <td>no</td>\n",
       "      <td>no</td>\n",
       "      <td>148.35</td>\n",
       "      <td>12.2</td>\n",
       "      <td>16.81</td>\n",
       "      <td>82</td>\n",
       "      <td>1</td>\n",
       "      <td>4.0</td>\n",
       "      <td>1</td>\n",
       "      <td>0.0</td>\n",
       "    </tr>\n",
       "    <tr>\n",
       "      <th>1</th>\n",
       "      <td>2015</td>\n",
       "      <td>100643</td>\n",
       "      <td>340-5930</td>\n",
       "      <td>Female</td>\n",
       "      <td>39</td>\n",
       "      <td>149</td>\n",
       "      <td>no</td>\n",
       "      <td>no</td>\n",
       "      <td>294.45</td>\n",
       "      <td>7.7</td>\n",
       "      <td>33.37</td>\n",
       "      <td>87</td>\n",
       "      <td>3</td>\n",
       "      <td>3.0</td>\n",
       "      <td>2</td>\n",
       "      <td>0.0</td>\n",
       "    </tr>\n",
       "    <tr>\n",
       "      <th>2</th>\n",
       "      <td>2015</td>\n",
       "      <td>100756</td>\n",
       "      <td>372-3750</td>\n",
       "      <td>Female</td>\n",
       "      <td>65</td>\n",
       "      <td>126</td>\n",
       "      <td>no</td>\n",
       "      <td>no</td>\n",
       "      <td>87.30</td>\n",
       "      <td>11.9</td>\n",
       "      <td>9.89</td>\n",
       "      <td>91</td>\n",
       "      <td>1</td>\n",
       "      <td>4.0</td>\n",
       "      <td>5</td>\n",
       "      <td>1.0</td>\n",
       "    </tr>\n",
       "    <tr>\n",
       "      <th>3</th>\n",
       "      <td>2015</td>\n",
       "      <td>101595</td>\n",
       "      <td>331-4902</td>\n",
       "      <td>Female</td>\n",
       "      <td>24</td>\n",
       "      <td>131</td>\n",
       "      <td>no</td>\n",
       "      <td>yes</td>\n",
       "      <td>321.30</td>\n",
       "      <td>9.5</td>\n",
       "      <td>36.41</td>\n",
       "      <td>102</td>\n",
       "      <td>4</td>\n",
       "      <td>3.0</td>\n",
       "      <td>3</td>\n",
       "      <td>0.0</td>\n",
       "    </tr>\n",
       "    <tr>\n",
       "      <th>4</th>\n",
       "      <td>2015</td>\n",
       "      <td>101653</td>\n",
       "      <td>351-8398</td>\n",
       "      <td>Female</td>\n",
       "      <td>40</td>\n",
       "      <td>191</td>\n",
       "      <td>no</td>\n",
       "      <td>no</td>\n",
       "      <td>243.00</td>\n",
       "      <td>10.9</td>\n",
       "      <td>27.54</td>\n",
       "      <td>83</td>\n",
       "      <td>7</td>\n",
       "      <td>3.0</td>\n",
       "      <td>1</td>\n",
       "      <td>0.0</td>\n",
       "    </tr>\n",
       "  </tbody>\n",
       "</table>\n",
       "</div>"
      ],
      "text/plain": [
       "   year  customer_id  phone_no  gender  age  no_of_days_subscribed  \\\n",
       "0  2015       100198  409-8743  Female   36                     62   \n",
       "1  2015       100643  340-5930  Female   39                    149   \n",
       "2  2015       100756  372-3750  Female   65                    126   \n",
       "3  2015       101595  331-4902  Female   24                    131   \n",
       "4  2015       101653  351-8398  Female   40                    191   \n",
       "\n",
       "  multi_screen mail_subscribed  weekly_mins_watched  minimum_daily_mins  \\\n",
       "0           no              no               148.35                12.2   \n",
       "1           no              no               294.45                 7.7   \n",
       "2           no              no                87.30                11.9   \n",
       "3           no             yes               321.30                 9.5   \n",
       "4           no              no               243.00                10.9   \n",
       "\n",
       "   maximum_daily_mins  weekly_max_night_mins  videos_watched  \\\n",
       "0               16.81                     82               1   \n",
       "1               33.37                     87               3   \n",
       "2                9.89                     91               1   \n",
       "3               36.41                    102               4   \n",
       "4               27.54                     83               7   \n",
       "\n",
       "   maximum_days_inactive  customer_support_calls  churn  \n",
       "0                    4.0                       1    0.0  \n",
       "1                    3.0                       2    0.0  \n",
       "2                    4.0                       5    1.0  \n",
       "3                    3.0                       3    0.0  \n",
       "4                    3.0                       1    0.0  "
      ]
     },
     "execution_count": 8,
     "metadata": {},
     "output_type": "execute_result"
    }
   ],
   "source": [
    "data.head()"
   ]
  },
  {
   "cell_type": "code",
   "execution_count": 9,
   "id": "3faf62a3",
   "metadata": {},
   "outputs": [
    {
     "data": {
      "text/plain": [
       "(2000, 16)"
      ]
     },
     "execution_count": 9,
     "metadata": {},
     "output_type": "execute_result"
    }
   ],
   "source": [
    "data.shape"
   ]
  },
  {
   "cell_type": "code",
   "execution_count": 10,
   "id": "a16fe59d",
   "metadata": {},
   "outputs": [
    {
     "data": {
      "text/plain": [
       "Index(['year', 'customer_id', 'phone_no', 'gender', 'age',\n",
       "       'no_of_days_subscribed', 'multi_screen', 'mail_subscribed',\n",
       "       'weekly_mins_watched', 'minimum_daily_mins', 'maximum_daily_mins',\n",
       "       'weekly_max_night_mins', 'videos_watched', 'maximum_days_inactive',\n",
       "       'customer_support_calls', 'churn'],\n",
       "      dtype='object')"
      ]
     },
     "execution_count": 10,
     "metadata": {},
     "output_type": "execute_result"
    }
   ],
   "source": [
    "data.columns"
   ]
  },
  {
   "cell_type": "code",
   "execution_count": 11,
   "id": "32d70041",
   "metadata": {},
   "outputs": [
    {
     "data": {
      "text/html": [
       "<div>\n",
       "<style scoped>\n",
       "    .dataframe tbody tr th:only-of-type {\n",
       "        vertical-align: middle;\n",
       "    }\n",
       "\n",
       "    .dataframe tbody tr th {\n",
       "        vertical-align: top;\n",
       "    }\n",
       "\n",
       "    .dataframe thead th {\n",
       "        text-align: right;\n",
       "    }\n",
       "</style>\n",
       "<table border=\"1\" class=\"dataframe\">\n",
       "  <thead>\n",
       "    <tr style=\"text-align: right;\">\n",
       "      <th></th>\n",
       "      <th>year</th>\n",
       "      <th>customer_id</th>\n",
       "      <th>age</th>\n",
       "      <th>no_of_days_subscribed</th>\n",
       "      <th>weekly_mins_watched</th>\n",
       "      <th>minimum_daily_mins</th>\n",
       "      <th>maximum_daily_mins</th>\n",
       "      <th>weekly_max_night_mins</th>\n",
       "      <th>videos_watched</th>\n",
       "      <th>maximum_days_inactive</th>\n",
       "      <th>customer_support_calls</th>\n",
       "      <th>churn</th>\n",
       "    </tr>\n",
       "  </thead>\n",
       "  <tbody>\n",
       "    <tr>\n",
       "      <th>count</th>\n",
       "      <td>2000.0</td>\n",
       "      <td>2000.000000</td>\n",
       "      <td>2000.00000</td>\n",
       "      <td>2000.000000</td>\n",
       "      <td>2000.000000</td>\n",
       "      <td>2000.000000</td>\n",
       "      <td>2000.000000</td>\n",
       "      <td>2000.000000</td>\n",
       "      <td>2000.000000</td>\n",
       "      <td>1972.000000</td>\n",
       "      <td>2000.000000</td>\n",
       "      <td>1965.000000</td>\n",
       "    </tr>\n",
       "    <tr>\n",
       "      <th>mean</th>\n",
       "      <td>2015.0</td>\n",
       "      <td>554887.157500</td>\n",
       "      <td>38.69050</td>\n",
       "      <td>99.750000</td>\n",
       "      <td>270.178425</td>\n",
       "      <td>10.198700</td>\n",
       "      <td>30.620780</td>\n",
       "      <td>100.415500</td>\n",
       "      <td>4.482500</td>\n",
       "      <td>3.250507</td>\n",
       "      <td>1.547000</td>\n",
       "      <td>0.133333</td>\n",
       "    </tr>\n",
       "    <tr>\n",
       "      <th>std</th>\n",
       "      <td>0.0</td>\n",
       "      <td>261033.690318</td>\n",
       "      <td>10.20641</td>\n",
       "      <td>39.755386</td>\n",
       "      <td>80.551627</td>\n",
       "      <td>2.785519</td>\n",
       "      <td>9.129165</td>\n",
       "      <td>19.529454</td>\n",
       "      <td>2.487728</td>\n",
       "      <td>0.809084</td>\n",
       "      <td>1.315164</td>\n",
       "      <td>0.340021</td>\n",
       "    </tr>\n",
       "    <tr>\n",
       "      <th>min</th>\n",
       "      <td>2015.0</td>\n",
       "      <td>100198.000000</td>\n",
       "      <td>18.00000</td>\n",
       "      <td>1.000000</td>\n",
       "      <td>0.000000</td>\n",
       "      <td>0.000000</td>\n",
       "      <td>0.000000</td>\n",
       "      <td>42.000000</td>\n",
       "      <td>0.000000</td>\n",
       "      <td>0.000000</td>\n",
       "      <td>0.000000</td>\n",
       "      <td>0.000000</td>\n",
       "    </tr>\n",
       "    <tr>\n",
       "      <th>25%</th>\n",
       "      <td>2015.0</td>\n",
       "      <td>328634.750000</td>\n",
       "      <td>32.00000</td>\n",
       "      <td>73.000000</td>\n",
       "      <td>218.212500</td>\n",
       "      <td>8.400000</td>\n",
       "      <td>24.735000</td>\n",
       "      <td>87.000000</td>\n",
       "      <td>3.000000</td>\n",
       "      <td>3.000000</td>\n",
       "      <td>1.000000</td>\n",
       "      <td>0.000000</td>\n",
       "    </tr>\n",
       "    <tr>\n",
       "      <th>50%</th>\n",
       "      <td>2015.0</td>\n",
       "      <td>567957.500000</td>\n",
       "      <td>37.00000</td>\n",
       "      <td>99.000000</td>\n",
       "      <td>269.925000</td>\n",
       "      <td>10.200000</td>\n",
       "      <td>30.590000</td>\n",
       "      <td>101.000000</td>\n",
       "      <td>4.000000</td>\n",
       "      <td>3.000000</td>\n",
       "      <td>1.000000</td>\n",
       "      <td>0.000000</td>\n",
       "    </tr>\n",
       "    <tr>\n",
       "      <th>75%</th>\n",
       "      <td>2015.0</td>\n",
       "      <td>773280.250000</td>\n",
       "      <td>44.00000</td>\n",
       "      <td>127.000000</td>\n",
       "      <td>324.675000</td>\n",
       "      <td>12.000000</td>\n",
       "      <td>36.797500</td>\n",
       "      <td>114.000000</td>\n",
       "      <td>6.000000</td>\n",
       "      <td>4.000000</td>\n",
       "      <td>2.000000</td>\n",
       "      <td>0.000000</td>\n",
       "    </tr>\n",
       "    <tr>\n",
       "      <th>max</th>\n",
       "      <td>2015.0</td>\n",
       "      <td>999961.000000</td>\n",
       "      <td>82.00000</td>\n",
       "      <td>243.000000</td>\n",
       "      <td>526.200000</td>\n",
       "      <td>20.000000</td>\n",
       "      <td>59.640000</td>\n",
       "      <td>175.000000</td>\n",
       "      <td>19.000000</td>\n",
       "      <td>6.000000</td>\n",
       "      <td>9.000000</td>\n",
       "      <td>1.000000</td>\n",
       "    </tr>\n",
       "  </tbody>\n",
       "</table>\n",
       "</div>"
      ],
      "text/plain": [
       "         year    customer_id         age  no_of_days_subscribed  \\\n",
       "count  2000.0    2000.000000  2000.00000            2000.000000   \n",
       "mean   2015.0  554887.157500    38.69050              99.750000   \n",
       "std       0.0  261033.690318    10.20641              39.755386   \n",
       "min    2015.0  100198.000000    18.00000               1.000000   \n",
       "25%    2015.0  328634.750000    32.00000              73.000000   \n",
       "50%    2015.0  567957.500000    37.00000              99.000000   \n",
       "75%    2015.0  773280.250000    44.00000             127.000000   \n",
       "max    2015.0  999961.000000    82.00000             243.000000   \n",
       "\n",
       "       weekly_mins_watched  minimum_daily_mins  maximum_daily_mins  \\\n",
       "count          2000.000000         2000.000000         2000.000000   \n",
       "mean            270.178425           10.198700           30.620780   \n",
       "std              80.551627            2.785519            9.129165   \n",
       "min               0.000000            0.000000            0.000000   \n",
       "25%             218.212500            8.400000           24.735000   \n",
       "50%             269.925000           10.200000           30.590000   \n",
       "75%             324.675000           12.000000           36.797500   \n",
       "max             526.200000           20.000000           59.640000   \n",
       "\n",
       "       weekly_max_night_mins  videos_watched  maximum_days_inactive  \\\n",
       "count            2000.000000     2000.000000            1972.000000   \n",
       "mean              100.415500        4.482500               3.250507   \n",
       "std                19.529454        2.487728               0.809084   \n",
       "min                42.000000        0.000000               0.000000   \n",
       "25%                87.000000        3.000000               3.000000   \n",
       "50%               101.000000        4.000000               3.000000   \n",
       "75%               114.000000        6.000000               4.000000   \n",
       "max               175.000000       19.000000               6.000000   \n",
       "\n",
       "       customer_support_calls        churn  \n",
       "count             2000.000000  1965.000000  \n",
       "mean                 1.547000     0.133333  \n",
       "std                  1.315164     0.340021  \n",
       "min                  0.000000     0.000000  \n",
       "25%                  1.000000     0.000000  \n",
       "50%                  1.000000     0.000000  \n",
       "75%                  2.000000     0.000000  \n",
       "max                  9.000000     1.000000  "
      ]
     },
     "execution_count": 11,
     "metadata": {},
     "output_type": "execute_result"
    }
   ],
   "source": [
    "data.describe()"
   ]
  },
  {
   "cell_type": "code",
   "execution_count": 12,
   "id": "bdccfb58",
   "metadata": {},
   "outputs": [
    {
     "name": "stdout",
     "output_type": "stream",
     "text": [
      "<class 'pandas.core.frame.DataFrame'>\n",
      "RangeIndex: 2000 entries, 0 to 1999\n",
      "Data columns (total 16 columns):\n",
      " #   Column                  Non-Null Count  Dtype  \n",
      "---  ------                  --------------  -----  \n",
      " 0   year                    2000 non-null   int64  \n",
      " 1   customer_id             2000 non-null   int64  \n",
      " 2   phone_no                2000 non-null   object \n",
      " 3   gender                  1976 non-null   object \n",
      " 4   age                     2000 non-null   int64  \n",
      " 5   no_of_days_subscribed   2000 non-null   int64  \n",
      " 6   multi_screen            2000 non-null   object \n",
      " 7   mail_subscribed         2000 non-null   object \n",
      " 8   weekly_mins_watched     2000 non-null   float64\n",
      " 9   minimum_daily_mins      2000 non-null   float64\n",
      " 10  maximum_daily_mins      2000 non-null   float64\n",
      " 11  weekly_max_night_mins   2000 non-null   int64  \n",
      " 12  videos_watched          2000 non-null   int64  \n",
      " 13  maximum_days_inactive   1972 non-null   float64\n",
      " 14  customer_support_calls  2000 non-null   int64  \n",
      " 15  churn                   1965 non-null   float64\n",
      "dtypes: float64(5), int64(7), object(4)\n",
      "memory usage: 250.1+ KB\n"
     ]
    }
   ],
   "source": [
    "data.info()"
   ]
  },
  {
   "cell_type": "code",
   "execution_count": 13,
   "id": "cfa8d854",
   "metadata": {},
   "outputs": [
    {
     "data": {
      "text/plain": [
       "year                       0\n",
       "customer_id                0\n",
       "phone_no                   0\n",
       "gender                    24\n",
       "age                        0\n",
       "no_of_days_subscribed      0\n",
       "multi_screen               0\n",
       "mail_subscribed            0\n",
       "weekly_mins_watched        0\n",
       "minimum_daily_mins         0\n",
       "maximum_daily_mins         0\n",
       "weekly_max_night_mins      0\n",
       "videos_watched             0\n",
       "maximum_days_inactive     28\n",
       "customer_support_calls     0\n",
       "churn                     35\n",
       "dtype: int64"
      ]
     },
     "execution_count": 13,
     "metadata": {},
     "output_type": "execute_result"
    }
   ],
   "source": [
    "data.isnull().sum()"
   ]
  },
  {
   "cell_type": "code",
   "execution_count": 14,
   "id": "f5178c70",
   "metadata": {},
   "outputs": [
    {
     "data": {
      "image/png": "[encoded data removed]",
      "text/plain": [
       "<Figure size 1800x720 with 1 Axes>"
      ]
     },
     "metadata": {
      "needs_background": "light"
     },
     "output_type": "display_data"
    }
   ],
   "source": [
    "#Let check for outliers.\n",
    "plt.figure(figsize = (25, 10))\n",
    "sns.boxplot(data = data, width = 0.5)\n",
    "plt.show()"
   ]
  },
  {
   "cell_type": "code",
   "execution_count": 15,
   "id": "2347efeb",
   "metadata": {},
   "outputs": [],
   "source": [
    "#As we can observe from the above graph there is no outlier in this dataset."
   ]
  },
  {
   "cell_type": "code",
   "execution_count": 16,
   "id": "69b1ac5c",
   "metadata": {},
   "outputs": [
    {
     "data": {
      "image/png": "[encoded data removed]",
      "text/plain": [
       "<Figure size 1440x720 with 2 Axes>"
      ]
     },
     "metadata": {
      "needs_background": "light"
     },
     "output_type": "display_data"
    }
   ],
   "source": [
    "#Now let us check if there is any correlation between columns.\n",
    "fig, ax = plt.subplots(figsize = (20, 10))\n",
    "sns.heatmap(data.corr(), annot=True, fmt='1.2f', annot_kws={'size' : 10}, linewidth=1, cmap=\"coolwarm\")\n",
    "plt.show()"
   ]
  },
  {
   "cell_type": "code",
   "execution_count": 17,
   "id": "49477e69",
   "metadata": {},
   "outputs": [],
   "source": [
    "#As we can observe from the above correlation graph that:\n",
    "#1. Maximum_daily_mins and weekly_min_watched are correlated with correlation coeff 1\n",
    "#2. Maximum_days_inactive and minimum_daily_mins are correlated with correlation coeff 0.93\n",
    "#3.Here I would like to drop maximum_days_inactive as we have already seen this column have some missing values."
   ]
  },
  {
   "cell_type": "code",
   "execution_count": 18,
   "id": "3c4e4bf4",
   "metadata": {},
   "outputs": [
    {
     "data": {
      "text/plain": [
       "Index(['year', 'customer_id', 'phone_no', 'gender', 'age',\n",
       "       'no_of_days_subscribed', 'multi_screen', 'mail_subscribed',\n",
       "       'weekly_mins_watched', 'minimum_daily_mins', 'maximum_daily_mins',\n",
       "       'weekly_max_night_mins', 'videos_watched', 'maximum_days_inactive',\n",
       "       'customer_support_calls', 'churn'],\n",
       "      dtype='object')"
      ]
     },
     "execution_count": 18,
     "metadata": {},
     "output_type": "execute_result"
    }
   ],
   "source": [
    "data.columns"
   ]
  },
  {
   "cell_type": "code",
   "execution_count": 19,
   "id": "5eb4b159",
   "metadata": {},
   "outputs": [
    {
     "data": {
      "text/plain": [
       "1"
      ]
     },
     "execution_count": 19,
     "metadata": {},
     "output_type": "execute_result"
    }
   ],
   "source": [
    "data['year'].nunique()\n",
    "#as we can see this year column has only one unique value. So this column is not contributing in prediction we can drop it."
   ]
  },
  {
   "cell_type": "code",
   "execution_count": 20,
   "id": "cf289dfc",
   "metadata": {},
   "outputs": [
    {
     "data": {
      "text/plain": [
       "1999"
      ]
     },
     "execution_count": 20,
     "metadata": {},
     "output_type": "execute_result"
    }
   ],
   "source": [
    "data['customer_id'].nunique()\n",
    "#as we can see this year column has all 1999 unique value. So this column is not contributing in prediction we can drop it."
   ]
  },
  {
   "cell_type": "code",
   "execution_count": 21,
   "id": "5f1cf9b1",
   "metadata": {},
   "outputs": [
    {
     "data": {
      "text/plain": [
       "2000"
      ]
     },
     "execution_count": 21,
     "metadata": {},
     "output_type": "execute_result"
    }
   ],
   "source": [
    "data['phone_no'].nunique()\n",
    "#as we can see this year column has all unique value. So this column is not contributing in prediction we can drop it."
   ]
  },
  {
   "cell_type": "code",
   "execution_count": 22,
   "id": "83bb2908",
   "metadata": {},
   "outputs": [],
   "source": [
    "#Now let us drop the irrelavent columns from data set.\n",
    "data = data.drop(['year', 'customer_id', 'phone_no', 'weekly_mins_watched' ,'maximum_days_inactive'], axis=1)"
   ]
  },
  {
   "cell_type": "code",
   "execution_count": 23,
   "id": "7ff436bb",
   "metadata": {},
   "outputs": [
    {
     "data": {
      "text/plain": [
       "(2000, 11)"
      ]
     },
     "execution_count": 23,
     "metadata": {},
     "output_type": "execute_result"
    }
   ],
   "source": [
    "data.shape"
   ]
  },
  {
   "cell_type": "code",
   "execution_count": 24,
   "id": "80041bdb",
   "metadata": {},
   "outputs": [
    {
     "data": {
      "text/plain": [
       "Index(['gender', 'age', 'no_of_days_subscribed', 'multi_screen',\n",
       "       'mail_subscribed', 'minimum_daily_mins', 'maximum_daily_mins',\n",
       "       'weekly_max_night_mins', 'videos_watched', 'customer_support_calls',\n",
       "       'churn'],\n",
       "      dtype='object')"
      ]
     },
     "execution_count": 24,
     "metadata": {},
     "output_type": "execute_result"
    }
   ],
   "source": [
    "data.columns"
   ]
  },
  {
   "cell_type": "code",
   "execution_count": 25,
   "id": "a3132908",
   "metadata": {},
   "outputs": [
    {
     "data": {
      "text/plain": [
       "no     1802\n",
       "yes     198\n",
       "Name: multi_screen, dtype: int64"
      ]
     },
     "execution_count": 25,
     "metadata": {},
     "output_type": "execute_result"
    }
   ],
   "source": [
    "data['multi_screen'].value_counts()"
   ]
  },
  {
   "cell_type": "code",
   "execution_count": 26,
   "id": "fcb96c22",
   "metadata": {},
   "outputs": [],
   "source": [
    "#well as we can see above still we have some yes values for multiscreen so we cannot ignore this column.\n"
   ]
  },
  {
   "cell_type": "code",
   "execution_count": 27,
   "id": "9d1082ff",
   "metadata": {},
   "outputs": [
    {
     "data": {
      "text/plain": [
       "no     1430\n",
       "yes     570\n",
       "Name: mail_subscribed, dtype: int64"
      ]
     },
     "execution_count": 27,
     "metadata": {},
     "output_type": "execute_result"
    }
   ],
   "source": [
    "data['mail_subscribed'].value_counts()"
   ]
  },
  {
   "cell_type": "code",
   "execution_count": 28,
   "id": "08e982df",
   "metadata": {},
   "outputs": [],
   "source": [
    "# even cannot drop this column"
   ]
  },
  {
   "cell_type": "code",
   "execution_count": 29,
   "id": "43223a0b",
   "metadata": {},
   "outputs": [
    {
     "data": {
      "text/html": [
       "<div>\n",
       "<style scoped>\n",
       "    .dataframe tbody tr th:only-of-type {\n",
       "        vertical-align: middle;\n",
       "    }\n",
       "\n",
       "    .dataframe tbody tr th {\n",
       "        vertical-align: top;\n",
       "    }\n",
       "\n",
       "    .dataframe thead th {\n",
       "        text-align: right;\n",
       "    }\n",
       "</style>\n",
       "<table border=\"1\" class=\"dataframe\">\n",
       "  <thead>\n",
       "    <tr style=\"text-align: right;\">\n",
       "      <th></th>\n",
       "      <th>gender</th>\n",
       "      <th>age</th>\n",
       "      <th>no_of_days_subscribed</th>\n",
       "      <th>multi_screen</th>\n",
       "      <th>mail_subscribed</th>\n",
       "      <th>minimum_daily_mins</th>\n",
       "      <th>maximum_daily_mins</th>\n",
       "      <th>weekly_max_night_mins</th>\n",
       "      <th>videos_watched</th>\n",
       "      <th>customer_support_calls</th>\n",
       "      <th>churn</th>\n",
       "    </tr>\n",
       "  </thead>\n",
       "  <tbody>\n",
       "    <tr>\n",
       "      <th>0</th>\n",
       "      <td>Female</td>\n",
       "      <td>36</td>\n",
       "      <td>62</td>\n",
       "      <td>no</td>\n",
       "      <td>no</td>\n",
       "      <td>12.2</td>\n",
       "      <td>16.81</td>\n",
       "      <td>82</td>\n",
       "      <td>1</td>\n",
       "      <td>1</td>\n",
       "      <td>0.0</td>\n",
       "    </tr>\n",
       "    <tr>\n",
       "      <th>1</th>\n",
       "      <td>Female</td>\n",
       "      <td>39</td>\n",
       "      <td>149</td>\n",
       "      <td>no</td>\n",
       "      <td>no</td>\n",
       "      <td>7.7</td>\n",
       "      <td>33.37</td>\n",
       "      <td>87</td>\n",
       "      <td>3</td>\n",
       "      <td>2</td>\n",
       "      <td>0.0</td>\n",
       "    </tr>\n",
       "    <tr>\n",
       "      <th>2</th>\n",
       "      <td>Female</td>\n",
       "      <td>65</td>\n",
       "      <td>126</td>\n",
       "      <td>no</td>\n",
       "      <td>no</td>\n",
       "      <td>11.9</td>\n",
       "      <td>9.89</td>\n",
       "      <td>91</td>\n",
       "      <td>1</td>\n",
       "      <td>5</td>\n",
       "      <td>1.0</td>\n",
       "    </tr>\n",
       "    <tr>\n",
       "      <th>3</th>\n",
       "      <td>Female</td>\n",
       "      <td>24</td>\n",
       "      <td>131</td>\n",
       "      <td>no</td>\n",
       "      <td>yes</td>\n",
       "      <td>9.5</td>\n",
       "      <td>36.41</td>\n",
       "      <td>102</td>\n",
       "      <td>4</td>\n",
       "      <td>3</td>\n",
       "      <td>0.0</td>\n",
       "    </tr>\n",
       "    <tr>\n",
       "      <th>4</th>\n",
       "      <td>Female</td>\n",
       "      <td>40</td>\n",
       "      <td>191</td>\n",
       "      <td>no</td>\n",
       "      <td>no</td>\n",
       "      <td>10.9</td>\n",
       "      <td>27.54</td>\n",
       "      <td>83</td>\n",
       "      <td>7</td>\n",
       "      <td>1</td>\n",
       "      <td>0.0</td>\n",
       "    </tr>\n",
       "    <tr>\n",
       "      <th>5</th>\n",
       "      <td>NaN</td>\n",
       "      <td>31</td>\n",
       "      <td>65</td>\n",
       "      <td>no</td>\n",
       "      <td>no</td>\n",
       "      <td>12.7</td>\n",
       "      <td>21.95</td>\n",
       "      <td>111</td>\n",
       "      <td>6</td>\n",
       "      <td>4</td>\n",
       "      <td>1.0</td>\n",
       "    </tr>\n",
       "    <tr>\n",
       "      <th>6</th>\n",
       "      <td>NaN</td>\n",
       "      <td>54</td>\n",
       "      <td>59</td>\n",
       "      <td>no</td>\n",
       "      <td>no</td>\n",
       "      <td>10.2</td>\n",
       "      <td>27.12</td>\n",
       "      <td>106</td>\n",
       "      <td>4</td>\n",
       "      <td>0</td>\n",
       "      <td>0.0</td>\n",
       "    </tr>\n",
       "    <tr>\n",
       "      <th>7</th>\n",
       "      <td>Female</td>\n",
       "      <td>40</td>\n",
       "      <td>50</td>\n",
       "      <td>no</td>\n",
       "      <td>no</td>\n",
       "      <td>5.6</td>\n",
       "      <td>22.29</td>\n",
       "      <td>88</td>\n",
       "      <td>9</td>\n",
       "      <td>5</td>\n",
       "      <td>1.0</td>\n",
       "    </tr>\n",
       "    <tr>\n",
       "      <th>8</th>\n",
       "      <td>Male</td>\n",
       "      <td>61</td>\n",
       "      <td>205</td>\n",
       "      <td>no</td>\n",
       "      <td>yes</td>\n",
       "      <td>7.8</td>\n",
       "      <td>29.89</td>\n",
       "      <td>64</td>\n",
       "      <td>5</td>\n",
       "      <td>2</td>\n",
       "      <td>0.0</td>\n",
       "    </tr>\n",
       "    <tr>\n",
       "      <th>9</th>\n",
       "      <td>Male</td>\n",
       "      <td>31</td>\n",
       "      <td>63</td>\n",
       "      <td>no</td>\n",
       "      <td>no</td>\n",
       "      <td>12.3</td>\n",
       "      <td>35.90</td>\n",
       "      <td>58</td>\n",
       "      <td>2</td>\n",
       "      <td>0</td>\n",
       "      <td>0.0</td>\n",
       "    </tr>\n",
       "  </tbody>\n",
       "</table>\n",
       "</div>"
      ],
      "text/plain": [
       "   gender  age  no_of_days_subscribed multi_screen mail_subscribed  \\\n",
       "0  Female   36                     62           no              no   \n",
       "1  Female   39                    149           no              no   \n",
       "2  Female   65                    126           no              no   \n",
       "3  Female   24                    131           no             yes   \n",
       "4  Female   40                    191           no              no   \n",
       "5     NaN   31                     65           no              no   \n",
       "6     NaN   54                     59           no              no   \n",
       "7  Female   40                     50           no              no   \n",
       "8    Male   61                    205           no             yes   \n",
       "9    Male   31                     63           no              no   \n",
       "\n",
       "   minimum_daily_mins  maximum_daily_mins  weekly_max_night_mins  \\\n",
       "0                12.2               16.81                     82   \n",
       "1                 7.7               33.37                     87   \n",
       "2                11.9                9.89                     91   \n",
       "3                 9.5               36.41                    102   \n",
       "4                10.9               27.54                     83   \n",
       "5                12.7               21.95                    111   \n",
       "6                10.2               27.12                    106   \n",
       "7                 5.6               22.29                     88   \n",
       "8                 7.8               29.89                     64   \n",
       "9                12.3               35.90                     58   \n",
       "\n",
       "   videos_watched  customer_support_calls  churn  \n",
       "0               1                       1    0.0  \n",
       "1               3                       2    0.0  \n",
       "2               1                       5    1.0  \n",
       "3               4                       3    0.0  \n",
       "4               7                       1    0.0  \n",
       "5               6                       4    1.0  \n",
       "6               4                       0    0.0  \n",
       "7               9                       5    1.0  \n",
       "8               5                       2    0.0  \n",
       "9               2                       0    0.0  "
      ]
     },
     "execution_count": 29,
     "metadata": {},
     "output_type": "execute_result"
    }
   ],
   "source": [
    "data.head(10)"
   ]
  },
  {
   "cell_type": "code",
   "execution_count": 30,
   "id": "288cdee9",
   "metadata": {},
   "outputs": [],
   "source": [
    "#as we can see we have missing values for gender \n",
    "#as well for churn but we will never touch our target column.\n",
    "#As gender is categorical so we will impute by using mode()\n",
    "#before that let divide data set into train and test"
   ]
  },
  {
   "cell_type": "code",
   "execution_count": 31,
   "id": "648460fa",
   "metadata": {},
   "outputs": [],
   "source": [
    "train, test = train_test_split(data, test_size = 0.2, random_state =1)"
   ]
  },
  {
   "cell_type": "code",
   "execution_count": 32,
   "id": "706421f2",
   "metadata": {},
   "outputs": [
    {
     "data": {
      "text/plain": [
       "((1600, 11), (400, 11))"
      ]
     },
     "execution_count": 32,
     "metadata": {},
     "output_type": "execute_result"
    }
   ],
   "source": [
    "train.shape, test.shape"
   ]
  },
  {
   "cell_type": "code",
   "execution_count": 33,
   "id": "06207e12",
   "metadata": {},
   "outputs": [
    {
     "data": {
      "text/plain": [
       "'Male'"
      ]
     },
     "execution_count": 33,
     "metadata": {},
     "output_type": "execute_result"
    }
   ],
   "source": [
    "train['gender'].mode()[0]"
   ]
  },
  {
   "cell_type": "code",
   "execution_count": 34,
   "id": "a0550da6",
   "metadata": {},
   "outputs": [],
   "source": [
    "train['gender']= train['gender'].fillna(train['gender'].mode()[0])"
   ]
  },
  {
   "cell_type": "code",
   "execution_count": 35,
   "id": "01265e5e",
   "metadata": {},
   "outputs": [],
   "source": [
    "test['gender']= test['gender'].fillna(train['gender'].mode()[0])"
   ]
  },
  {
   "cell_type": "code",
   "execution_count": 36,
   "id": "8fadf82d",
   "metadata": {},
   "outputs": [
    {
     "data": {
      "text/plain": [
       "0"
      ]
     },
     "execution_count": 36,
     "metadata": {},
     "output_type": "execute_result"
    }
   ],
   "source": [
    "train['gender'].isnull().sum()"
   ]
  },
  {
   "cell_type": "code",
   "execution_count": 37,
   "id": "4b9ff38c",
   "metadata": {},
   "outputs": [
    {
     "data": {
      "text/plain": [
       "0"
      ]
     },
     "execution_count": 37,
     "metadata": {},
     "output_type": "execute_result"
    }
   ],
   "source": [
    "test['gender'].isnull().sum()"
   ]
  },
  {
   "cell_type": "code",
   "execution_count": 38,
   "id": "d4a41a42",
   "metadata": {},
   "outputs": [],
   "source": [
    "from sklearn.preprocessing import LabelEncoder"
   ]
  },
  {
   "cell_type": "code",
   "execution_count": 39,
   "id": "47c442aa",
   "metadata": {},
   "outputs": [],
   "source": [
    "le = LabelEncoder()"
   ]
  },
  {
   "cell_type": "code",
   "execution_count": 40,
   "id": "449cb721",
   "metadata": {},
   "outputs": [],
   "source": [
    "train['gender']= le.fit_transform(train['gender'])"
   ]
  },
  {
   "cell_type": "code",
   "execution_count": 41,
   "id": "e2ecdc57",
   "metadata": {},
   "outputs": [],
   "source": [
    "test['gender']= le.transform(test['gender'])"
   ]
  },
  {
   "cell_type": "code",
   "execution_count": 42,
   "id": "687d35a1",
   "metadata": {},
   "outputs": [],
   "source": [
    "train['multi_screen']= le.fit_transform(train['multi_screen'])"
   ]
  },
  {
   "cell_type": "code",
   "execution_count": 43,
   "id": "957a30b7",
   "metadata": {},
   "outputs": [],
   "source": [
    "test['multi_screen']= le.transform(test['multi_screen'])"
   ]
  },
  {
   "cell_type": "code",
   "execution_count": 44,
   "id": "edf86fcd",
   "metadata": {},
   "outputs": [],
   "source": [
    "train['mail_subscribed']= le.fit_transform(train['mail_subscribed'])\n",
    "test['mail_subscribed']= le.transform(test['mail_subscribed'])"
   ]
  },
  {
   "cell_type": "code",
   "execution_count": 45,
   "id": "418bbbed",
   "metadata": {},
   "outputs": [
    {
     "data": {
      "text/plain": [
       "0    290\n",
       "1    110\n",
       "Name: mail_subscribed, dtype: int64"
      ]
     },
     "execution_count": 45,
     "metadata": {},
     "output_type": "execute_result"
    }
   ],
   "source": [
    "test['mail_subscribed'].value_counts()"
   ]
  },
  {
   "cell_type": "code",
   "execution_count": 46,
   "id": "edde3904",
   "metadata": {},
   "outputs": [
    {
     "data": {
      "text/html": [
       "<div>\n",
       "<style scoped>\n",
       "    .dataframe tbody tr th:only-of-type {\n",
       "        vertical-align: middle;\n",
       "    }\n",
       "\n",
       "    .dataframe tbody tr th {\n",
       "        vertical-align: top;\n",
       "    }\n",
       "\n",
       "    .dataframe thead th {\n",
       "        text-align: right;\n",
       "    }\n",
       "</style>\n",
       "<table border=\"1\" class=\"dataframe\">\n",
       "  <thead>\n",
       "    <tr style=\"text-align: right;\">\n",
       "      <th></th>\n",
       "      <th>gender</th>\n",
       "      <th>age</th>\n",
       "      <th>no_of_days_subscribed</th>\n",
       "      <th>multi_screen</th>\n",
       "      <th>mail_subscribed</th>\n",
       "      <th>minimum_daily_mins</th>\n",
       "      <th>maximum_daily_mins</th>\n",
       "      <th>weekly_max_night_mins</th>\n",
       "      <th>videos_watched</th>\n",
       "      <th>customer_support_calls</th>\n",
       "      <th>churn</th>\n",
       "    </tr>\n",
       "  </thead>\n",
       "  <tbody>\n",
       "    <tr>\n",
       "      <th>674</th>\n",
       "      <td>1</td>\n",
       "      <td>44</td>\n",
       "      <td>52</td>\n",
       "      <td>0</td>\n",
       "      <td>0</td>\n",
       "      <td>7.8</td>\n",
       "      <td>32.62</td>\n",
       "      <td>87</td>\n",
       "      <td>5</td>\n",
       "      <td>3</td>\n",
       "      <td>0.0</td>\n",
       "    </tr>\n",
       "    <tr>\n",
       "      <th>1699</th>\n",
       "      <td>0</td>\n",
       "      <td>64</td>\n",
       "      <td>34</td>\n",
       "      <td>0</td>\n",
       "      <td>0</td>\n",
       "      <td>9.9</td>\n",
       "      <td>25.67</td>\n",
       "      <td>86</td>\n",
       "      <td>7</td>\n",
       "      <td>0</td>\n",
       "      <td>0.0</td>\n",
       "    </tr>\n",
       "    <tr>\n",
       "      <th>1282</th>\n",
       "      <td>1</td>\n",
       "      <td>75</td>\n",
       "      <td>128</td>\n",
       "      <td>0</td>\n",
       "      <td>1</td>\n",
       "      <td>8.6</td>\n",
       "      <td>30.48</td>\n",
       "      <td>78</td>\n",
       "      <td>7</td>\n",
       "      <td>0</td>\n",
       "      <td>0.0</td>\n",
       "    </tr>\n",
       "    <tr>\n",
       "      <th>1315</th>\n",
       "      <td>0</td>\n",
       "      <td>58</td>\n",
       "      <td>90</td>\n",
       "      <td>0</td>\n",
       "      <td>1</td>\n",
       "      <td>5.8</td>\n",
       "      <td>25.52</td>\n",
       "      <td>97</td>\n",
       "      <td>4</td>\n",
       "      <td>1</td>\n",
       "      <td>0.0</td>\n",
       "    </tr>\n",
       "    <tr>\n",
       "      <th>1210</th>\n",
       "      <td>1</td>\n",
       "      <td>27</td>\n",
       "      <td>107</td>\n",
       "      <td>1</td>\n",
       "      <td>0</td>\n",
       "      <td>11.0</td>\n",
       "      <td>46.50</td>\n",
       "      <td>67</td>\n",
       "      <td>9</td>\n",
       "      <td>2</td>\n",
       "      <td>0.0</td>\n",
       "    </tr>\n",
       "    <tr>\n",
       "      <th>1636</th>\n",
       "      <td>0</td>\n",
       "      <td>36</td>\n",
       "      <td>127</td>\n",
       "      <td>0</td>\n",
       "      <td>1</td>\n",
       "      <td>7.7</td>\n",
       "      <td>40.05</td>\n",
       "      <td>127</td>\n",
       "      <td>2</td>\n",
       "      <td>1</td>\n",
       "      <td>0.0</td>\n",
       "    </tr>\n",
       "    <tr>\n",
       "      <th>613</th>\n",
       "      <td>1</td>\n",
       "      <td>37</td>\n",
       "      <td>25</td>\n",
       "      <td>0</td>\n",
       "      <td>0</td>\n",
       "      <td>12.6</td>\n",
       "      <td>22.83</td>\n",
       "      <td>100</td>\n",
       "      <td>5</td>\n",
       "      <td>2</td>\n",
       "      <td>0.0</td>\n",
       "    </tr>\n",
       "    <tr>\n",
       "      <th>447</th>\n",
       "      <td>1</td>\n",
       "      <td>39</td>\n",
       "      <td>120</td>\n",
       "      <td>0</td>\n",
       "      <td>1</td>\n",
       "      <td>7.7</td>\n",
       "      <td>40.70</td>\n",
       "      <td>132</td>\n",
       "      <td>3</td>\n",
       "      <td>0</td>\n",
       "      <td>0.0</td>\n",
       "    </tr>\n",
       "    <tr>\n",
       "      <th>1131</th>\n",
       "      <td>1</td>\n",
       "      <td>35</td>\n",
       "      <td>36</td>\n",
       "      <td>0</td>\n",
       "      <td>1</td>\n",
       "      <td>6.7</td>\n",
       "      <td>25.40</td>\n",
       "      <td>87</td>\n",
       "      <td>2</td>\n",
       "      <td>0</td>\n",
       "      <td>0.0</td>\n",
       "    </tr>\n",
       "    <tr>\n",
       "      <th>808</th>\n",
       "      <td>1</td>\n",
       "      <td>40</td>\n",
       "      <td>161</td>\n",
       "      <td>0</td>\n",
       "      <td>1</td>\n",
       "      <td>7.3</td>\n",
       "      <td>37.15</td>\n",
       "      <td>121</td>\n",
       "      <td>4</td>\n",
       "      <td>1</td>\n",
       "      <td>0.0</td>\n",
       "    </tr>\n",
       "  </tbody>\n",
       "</table>\n",
       "</div>"
      ],
      "text/plain": [
       "      gender  age  no_of_days_subscribed  multi_screen  mail_subscribed  \\\n",
       "674        1   44                     52             0                0   \n",
       "1699       0   64                     34             0                0   \n",
       "1282       1   75                    128             0                1   \n",
       "1315       0   58                     90             0                1   \n",
       "1210       1   27                    107             1                0   \n",
       "1636       0   36                    127             0                1   \n",
       "613        1   37                     25             0                0   \n",
       "447        1   39                    120             0                1   \n",
       "1131       1   35                     36             0                1   \n",
       "808        1   40                    161             0                1   \n",
       "\n",
       "      minimum_daily_mins  maximum_daily_mins  weekly_max_night_mins  \\\n",
       "674                  7.8               32.62                     87   \n",
       "1699                 9.9               25.67                     86   \n",
       "1282                 8.6               30.48                     78   \n",
       "1315                 5.8               25.52                     97   \n",
       "1210                11.0               46.50                     67   \n",
       "1636                 7.7               40.05                    127   \n",
       "613                 12.6               22.83                    100   \n",
       "447                  7.7               40.70                    132   \n",
       "1131                 6.7               25.40                     87   \n",
       "808                  7.3               37.15                    121   \n",
       "\n",
       "      videos_watched  customer_support_calls  churn  \n",
       "674                5                       3    0.0  \n",
       "1699               7                       0    0.0  \n",
       "1282               7                       0    0.0  \n",
       "1315               4                       1    0.0  \n",
       "1210               9                       2    0.0  \n",
       "1636               2                       1    0.0  \n",
       "613                5                       2    0.0  \n",
       "447                3                       0    0.0  \n",
       "1131               2                       0    0.0  \n",
       "808                4                       1    0.0  "
      ]
     },
     "execution_count": 46,
     "metadata": {},
     "output_type": "execute_result"
    }
   ],
   "source": [
    "test.head(10)"
   ]
  },
  {
   "cell_type": "code",
   "execution_count": 47,
   "id": "008e7492",
   "metadata": {},
   "outputs": [
    {
     "data": {
      "text/plain": [
       "gender                     0\n",
       "age                        0\n",
       "no_of_days_subscribed      0\n",
       "multi_screen               0\n",
       "mail_subscribed            0\n",
       "minimum_daily_mins         0\n",
       "maximum_daily_mins         0\n",
       "weekly_max_night_mins      0\n",
       "videos_watched             0\n",
       "customer_support_calls     0\n",
       "churn                     30\n",
       "dtype: int64"
      ]
     },
     "execution_count": 47,
     "metadata": {},
     "output_type": "execute_result"
    }
   ],
   "source": [
    "train.isnull().sum()"
   ]
  },
  {
   "cell_type": "code",
   "execution_count": 48,
   "id": "2e77cb8a",
   "metadata": {},
   "outputs": [],
   "source": [
    "train.dropna(subset=['churn'] , inplace=True)"
   ]
  },
  {
   "cell_type": "code",
   "execution_count": 49,
   "id": "ec3526df",
   "metadata": {},
   "outputs": [
    {
     "data": {
      "text/plain": [
       "0"
      ]
     },
     "execution_count": 49,
     "metadata": {},
     "output_type": "execute_result"
    }
   ],
   "source": [
    "train['churn'].isnull().sum()"
   ]
  },
  {
   "cell_type": "code",
   "execution_count": 50,
   "id": "a70c2d79",
   "metadata": {},
   "outputs": [
    {
     "data": {
      "text/plain": [
       "(1570, 11)"
      ]
     },
     "execution_count": 50,
     "metadata": {},
     "output_type": "execute_result"
    }
   ],
   "source": [
    "train.shape"
   ]
  },
  {
   "cell_type": "code",
   "execution_count": 51,
   "id": "a608773c",
   "metadata": {},
   "outputs": [],
   "source": [
    "test.dropna(subset=['churn'] , inplace=True)"
   ]
  },
  {
   "cell_type": "code",
   "execution_count": 52,
   "id": "6463e792",
   "metadata": {},
   "outputs": [
    {
     "data": {
      "text/plain": [
       "(395, 11)"
      ]
     },
     "execution_count": 52,
     "metadata": {},
     "output_type": "execute_result"
    }
   ],
   "source": [
    "test.shape"
   ]
  },
  {
   "cell_type": "code",
   "execution_count": 53,
   "id": "d1af103a",
   "metadata": {},
   "outputs": [],
   "source": [
    "train['minimum_daily_mins']= train['minimum_daily_mins'].astype(int)"
   ]
  },
  {
   "cell_type": "code",
   "execution_count": 54,
   "id": "7e6d47c7",
   "metadata": {},
   "outputs": [],
   "source": [
    "train['maximum_daily_mins']=train['maximum_daily_mins'].astype(int)"
   ]
  },
  {
   "cell_type": "code",
   "execution_count": 55,
   "id": "72b613a6",
   "metadata": {},
   "outputs": [],
   "source": [
    "test['minimum_daily_mins']= test['minimum_daily_mins'].astype(int)"
   ]
  },
  {
   "cell_type": "code",
   "execution_count": 56,
   "id": "28fc65ce",
   "metadata": {},
   "outputs": [],
   "source": [
    "test['maximum_daily_mins']=test['maximum_daily_mins'].astype(int)"
   ]
  },
  {
   "cell_type": "code",
   "execution_count": 57,
   "id": "073decb6",
   "metadata": {},
   "outputs": [],
   "source": [
    "train['churn']=train['churn'].astype(int)"
   ]
  },
  {
   "cell_type": "code",
   "execution_count": 58,
   "id": "41cf7f73",
   "metadata": {},
   "outputs": [],
   "source": [
    "test['churn']=test['churn'].astype(int)"
   ]
  },
  {
   "cell_type": "code",
   "execution_count": 59,
   "id": "987b2bd6",
   "metadata": {},
   "outputs": [
    {
     "name": "stdout",
     "output_type": "stream",
     "text": [
      "<class 'pandas.core.frame.DataFrame'>\n",
      "Int64Index: 1570 entries, 0 to 1061\n",
      "Data columns (total 11 columns):\n",
      " #   Column                  Non-Null Count  Dtype\n",
      "---  ------                  --------------  -----\n",
      " 0   gender                  1570 non-null   int32\n",
      " 1   age                     1570 non-null   int64\n",
      " 2   no_of_days_subscribed   1570 non-null   int64\n",
      " 3   multi_screen            1570 non-null   int32\n",
      " 4   mail_subscribed         1570 non-null   int32\n",
      " 5   minimum_daily_mins      1570 non-null   int32\n",
      " 6   maximum_daily_mins      1570 non-null   int32\n",
      " 7   weekly_max_night_mins   1570 non-null   int64\n",
      " 8   videos_watched          1570 non-null   int64\n",
      " 9   customer_support_calls  1570 non-null   int64\n",
      " 10  churn                   1570 non-null   int32\n",
      "dtypes: int32(6), int64(5)\n",
      "memory usage: 110.4 KB\n"
     ]
    }
   ],
   "source": [
    "train.info()"
   ]
  },
  {
   "cell_type": "code",
   "execution_count": 60,
   "id": "ce558d9f",
   "metadata": {},
   "outputs": [
    {
     "name": "stdout",
     "output_type": "stream",
     "text": [
      "<class 'pandas.core.frame.DataFrame'>\n",
      "Int64Index: 395 entries, 674 to 1820\n",
      "Data columns (total 11 columns):\n",
      " #   Column                  Non-Null Count  Dtype\n",
      "---  ------                  --------------  -----\n",
      " 0   gender                  395 non-null    int32\n",
      " 1   age                     395 non-null    int64\n",
      " 2   no_of_days_subscribed   395 non-null    int64\n",
      " 3   multi_screen            395 non-null    int32\n",
      " 4   mail_subscribed         395 non-null    int32\n",
      " 5   minimum_daily_mins      395 non-null    int32\n",
      " 6   maximum_daily_mins      395 non-null    int32\n",
      " 7   weekly_max_night_mins   395 non-null    int64\n",
      " 8   videos_watched          395 non-null    int64\n",
      " 9   customer_support_calls  395 non-null    int64\n",
      " 10  churn                   395 non-null    int32\n",
      "dtypes: int32(6), int64(5)\n",
      "memory usage: 27.8 KB\n"
     ]
    }
   ],
   "source": [
    "test.info()"
   ]
  },
  {
   "cell_type": "code",
   "execution_count": 61,
   "id": "9a43b175",
   "metadata": {},
   "outputs": [],
   "source": [
    "#Finally all data datas are numerical and integer perfect to begin but \n",
    "#firstly we have to scale all of them as the range of features are different.\n",
    "#Before normalizing them let's separate the feature and target."
   ]
  },
  {
   "cell_type": "code",
   "execution_count": 62,
   "id": "95eccaf4",
   "metadata": {},
   "outputs": [],
   "source": [
    "x_train = train.drop(['churn'], axis=1)\n",
    "y_train = train['churn']"
   ]
  },
  {
   "cell_type": "code",
   "execution_count": 63,
   "id": "3e001e91",
   "metadata": {},
   "outputs": [],
   "source": [
    "x_test = test.drop(['churn'], axis=1)\n",
    "y_test = test['churn']"
   ]
  },
  {
   "cell_type": "code",
   "execution_count": 64,
   "id": "828d4a16",
   "metadata": {},
   "outputs": [
    {
     "data": {
      "text/plain": [
       "((1570, 10), (1570,))"
      ]
     },
     "execution_count": 64,
     "metadata": {},
     "output_type": "execute_result"
    }
   ],
   "source": [
    "x_train.shape, y_train.shape"
   ]
  },
  {
   "cell_type": "code",
   "execution_count": 65,
   "id": "49db9bd8",
   "metadata": {},
   "outputs": [
    {
     "data": {
      "text/plain": [
       "((395, 10), (395,))"
      ]
     },
     "execution_count": 65,
     "metadata": {},
     "output_type": "execute_result"
    }
   ],
   "source": [
    "x_test.shape, y_test.shape"
   ]
  },
  {
   "cell_type": "code",
   "execution_count": 66,
   "id": "1ce880e5",
   "metadata": {},
   "outputs": [],
   "source": [
    "from sklearn.preprocessing import normalize, StandardScaler\n",
    "ss = StandardScaler()\n",
    "x_scaled = ss.fit_transform(x_train)"
   ]
  },
  {
   "cell_type": "code",
   "execution_count": 67,
   "id": "92133a1b",
   "metadata": {},
   "outputs": [
    {
     "data": {
      "text/plain": [
       "numpy.ndarray"
      ]
     },
     "execution_count": 67,
     "metadata": {},
     "output_type": "execute_result"
    }
   ],
   "source": [
    "type(x_scaled)"
   ]
  },
  {
   "cell_type": "code",
   "execution_count": 68,
   "id": "8d33910b",
   "metadata": {
    "scrolled": true
   },
   "outputs": [
    {
     "data": {
      "text/plain": [
       "array([[-1.05232246, -0.26585529, -0.95736387, ..., -0.96325849,\n",
       "        -1.40219328, -0.43386824],\n",
       "       [ 0.95027907,  0.52541069, -1.1575585 , ..., -1.68478321,\n",
       "        -0.19899956,  1.08491244],\n",
       "       [ 0.95027907,  0.62431894,  1.01955809, ...,  1.40746561,\n",
       "        -1.00112871, -0.43386824],\n",
       "       ...,\n",
       "       [-1.05232246,  1.41558492,  0.11868226, ...,  1.56207805,\n",
       "        -0.60006413,  0.3255221 ],\n",
       "       [ 0.95027907,  1.01995193,  0.44399853, ..., -0.55095864,\n",
       "        -0.19899956, -0.43386824],\n",
       "       [-1.05232246, -0.36476354, -0.08151237, ..., -1.42709581,\n",
       "        -0.19899956, -1.19325858]])"
      ]
     },
     "execution_count": 68,
     "metadata": {},
     "output_type": "execute_result"
    }
   ],
   "source": [
    "x_scaled\n"
   ]
  },
  {
   "cell_type": "code",
   "execution_count": 69,
   "id": "07043b7c",
   "metadata": {},
   "outputs": [],
   "source": [
    "x_train_scaled = pd.DataFrame(x_scaled, columns = x_train.columns)"
   ]
  },
  {
   "cell_type": "code",
   "execution_count": 70,
   "id": "c5396d44",
   "metadata": {},
   "outputs": [
    {
     "data": {
      "text/html": [
       "<div>\n",
       "<style scoped>\n",
       "    .dataframe tbody tr th:only-of-type {\n",
       "        vertical-align: middle;\n",
       "    }\n",
       "\n",
       "    .dataframe tbody tr th {\n",
       "        vertical-align: top;\n",
       "    }\n",
       "\n",
       "    .dataframe thead th {\n",
       "        text-align: right;\n",
       "    }\n",
       "</style>\n",
       "<table border=\"1\" class=\"dataframe\">\n",
       "  <thead>\n",
       "    <tr style=\"text-align: right;\">\n",
       "      <th></th>\n",
       "      <th>gender</th>\n",
       "      <th>age</th>\n",
       "      <th>no_of_days_subscribed</th>\n",
       "      <th>multi_screen</th>\n",
       "      <th>mail_subscribed</th>\n",
       "      <th>minimum_daily_mins</th>\n",
       "      <th>maximum_daily_mins</th>\n",
       "      <th>weekly_max_night_mins</th>\n",
       "      <th>videos_watched</th>\n",
       "      <th>customer_support_calls</th>\n",
       "    </tr>\n",
       "  </thead>\n",
       "  <tbody>\n",
       "    <tr>\n",
       "      <th>0</th>\n",
       "      <td>-1.052322</td>\n",
       "      <td>-0.265855</td>\n",
       "      <td>-0.957364</td>\n",
       "      <td>-0.327404</td>\n",
       "      <td>-0.635841</td>\n",
       "      <td>0.781126</td>\n",
       "      <td>-1.550623</td>\n",
       "      <td>-0.963258</td>\n",
       "      <td>-1.402193</td>\n",
       "      <td>-0.433868</td>\n",
       "    </tr>\n",
       "    <tr>\n",
       "      <th>1</th>\n",
       "      <td>0.950279</td>\n",
       "      <td>0.525411</td>\n",
       "      <td>-1.157558</td>\n",
       "      <td>-0.327404</td>\n",
       "      <td>-0.635841</td>\n",
       "      <td>1.495792</td>\n",
       "      <td>-0.889230</td>\n",
       "      <td>-1.684783</td>\n",
       "      <td>-0.199000</td>\n",
       "      <td>1.084912</td>\n",
       "    </tr>\n",
       "    <tr>\n",
       "      <th>2</th>\n",
       "      <td>0.950279</td>\n",
       "      <td>0.624319</td>\n",
       "      <td>1.019558</td>\n",
       "      <td>-0.327404</td>\n",
       "      <td>-0.635841</td>\n",
       "      <td>-0.648207</td>\n",
       "      <td>-0.999462</td>\n",
       "      <td>1.407466</td>\n",
       "      <td>-1.001129</td>\n",
       "      <td>-0.433868</td>\n",
       "    </tr>\n",
       "    <tr>\n",
       "      <th>3</th>\n",
       "      <td>-1.052322</td>\n",
       "      <td>0.228686</td>\n",
       "      <td>0.544096</td>\n",
       "      <td>-0.327404</td>\n",
       "      <td>-0.635841</td>\n",
       "      <td>1.138459</td>\n",
       "      <td>1.205182</td>\n",
       "      <td>-0.860184</td>\n",
       "      <td>1.405259</td>\n",
       "      <td>0.325522</td>\n",
       "    </tr>\n",
       "    <tr>\n",
       "      <th>4</th>\n",
       "      <td>-1.052322</td>\n",
       "      <td>-0.068039</td>\n",
       "      <td>0.794339</td>\n",
       "      <td>-0.327404</td>\n",
       "      <td>1.572721</td>\n",
       "      <td>0.066459</td>\n",
       "      <td>-0.117604</td>\n",
       "      <td>-1.272483</td>\n",
       "      <td>1.806323</td>\n",
       "      <td>-0.433868</td>\n",
       "    </tr>\n",
       "  </tbody>\n",
       "</table>\n",
       "</div>"
      ],
      "text/plain": [
       "     gender       age  no_of_days_subscribed  multi_screen  mail_subscribed  \\\n",
       "0 -1.052322 -0.265855              -0.957364     -0.327404        -0.635841   \n",
       "1  0.950279  0.525411              -1.157558     -0.327404        -0.635841   \n",
       "2  0.950279  0.624319               1.019558     -0.327404        -0.635841   \n",
       "3 -1.052322  0.228686               0.544096     -0.327404        -0.635841   \n",
       "4 -1.052322 -0.068039               0.794339     -0.327404         1.572721   \n",
       "\n",
       "   minimum_daily_mins  maximum_daily_mins  weekly_max_night_mins  \\\n",
       "0            0.781126           -1.550623              -0.963258   \n",
       "1            1.495792           -0.889230              -1.684783   \n",
       "2           -0.648207           -0.999462               1.407466   \n",
       "3            1.138459            1.205182              -0.860184   \n",
       "4            0.066459           -0.117604              -1.272483   \n",
       "\n",
       "   videos_watched  customer_support_calls  \n",
       "0       -1.402193               -0.433868  \n",
       "1       -0.199000                1.084912  \n",
       "2       -1.001129               -0.433868  \n",
       "3        1.405259                0.325522  \n",
       "4        1.806323               -0.433868  "
      ]
     },
     "execution_count": 70,
     "metadata": {},
     "output_type": "execute_result"
    }
   ],
   "source": [
    "x_train_scaled.head()"
   ]
  },
  {
   "cell_type": "code",
   "execution_count": 71,
   "id": "ada395d2",
   "metadata": {},
   "outputs": [
    {
     "data": {
      "text/html": [
       "<div>\n",
       "<style scoped>\n",
       "    .dataframe tbody tr th:only-of-type {\n",
       "        vertical-align: middle;\n",
       "    }\n",
       "\n",
       "    .dataframe tbody tr th {\n",
       "        vertical-align: top;\n",
       "    }\n",
       "\n",
       "    .dataframe thead th {\n",
       "        text-align: right;\n",
       "    }\n",
       "</style>\n",
       "<table border=\"1\" class=\"dataframe\">\n",
       "  <thead>\n",
       "    <tr style=\"text-align: right;\">\n",
       "      <th></th>\n",
       "      <th>gender</th>\n",
       "      <th>age</th>\n",
       "      <th>no_of_days_subscribed</th>\n",
       "      <th>multi_screen</th>\n",
       "      <th>mail_subscribed</th>\n",
       "      <th>minimum_daily_mins</th>\n",
       "      <th>maximum_daily_mins</th>\n",
       "      <th>weekly_max_night_mins</th>\n",
       "      <th>videos_watched</th>\n",
       "      <th>customer_support_calls</th>\n",
       "    </tr>\n",
       "  </thead>\n",
       "  <tbody>\n",
       "    <tr>\n",
       "      <th>count</th>\n",
       "      <td>1.570000e+03</td>\n",
       "      <td>1.570000e+03</td>\n",
       "      <td>1.570000e+03</td>\n",
       "      <td>1.570000e+03</td>\n",
       "      <td>1.570000e+03</td>\n",
       "      <td>1.570000e+03</td>\n",
       "      <td>1.570000e+03</td>\n",
       "      <td>1.570000e+03</td>\n",
       "      <td>1.570000e+03</td>\n",
       "      <td>1.570000e+03</td>\n",
       "    </tr>\n",
       "    <tr>\n",
       "      <th>mean</th>\n",
       "      <td>-1.923444e-17</td>\n",
       "      <td>1.108809e-16</td>\n",
       "      <td>1.564124e-16</td>\n",
       "      <td>1.108809e-16</td>\n",
       "      <td>1.158309e-16</td>\n",
       "      <td>2.600892e-16</td>\n",
       "      <td>8.966642e-17</td>\n",
       "      <td>7.198771e-17</td>\n",
       "      <td>-2.819047e-16</td>\n",
       "      <td>1.206395e-16</td>\n",
       "    </tr>\n",
       "    <tr>\n",
       "      <th>std</th>\n",
       "      <td>1.000319e+00</td>\n",
       "      <td>1.000319e+00</td>\n",
       "      <td>1.000319e+00</td>\n",
       "      <td>1.000319e+00</td>\n",
       "      <td>1.000319e+00</td>\n",
       "      <td>1.000319e+00</td>\n",
       "      <td>1.000319e+00</td>\n",
       "      <td>1.000319e+00</td>\n",
       "      <td>1.000319e+00</td>\n",
       "      <td>1.000319e+00</td>\n",
       "    </tr>\n",
       "    <tr>\n",
       "      <th>min</th>\n",
       "      <td>-1.052322e+00</td>\n",
       "      <td>-2.046204e+00</td>\n",
       "      <td>-2.483848e+00</td>\n",
       "      <td>-3.274038e-01</td>\n",
       "      <td>-6.358407e-01</td>\n",
       "      <td>-3.506872e+00</td>\n",
       "      <td>-3.314339e+00</td>\n",
       "      <td>-3.024758e+00</td>\n",
       "      <td>-1.803258e+00</td>\n",
       "      <td>-1.193259e+00</td>\n",
       "    </tr>\n",
       "    <tr>\n",
       "      <th>25%</th>\n",
       "      <td>-1.052322e+00</td>\n",
       "      <td>-6.614883e-01</td>\n",
       "      <td>-7.071206e-01</td>\n",
       "      <td>-3.274038e-01</td>\n",
       "      <td>-6.358407e-01</td>\n",
       "      <td>-6.482069e-01</td>\n",
       "      <td>-6.687655e-01</td>\n",
       "      <td>-6.540336e-01</td>\n",
       "      <td>-6.000641e-01</td>\n",
       "      <td>-4.338682e-01</td>\n",
       "    </tr>\n",
       "    <tr>\n",
       "      <th>50%</th>\n",
       "      <td>9.502791e-01</td>\n",
       "      <td>-1.669470e-01</td>\n",
       "      <td>-3.146371e-02</td>\n",
       "      <td>-3.274038e-01</td>\n",
       "      <td>-6.358407e-01</td>\n",
       "      <td>6.645942e-02</td>\n",
       "      <td>-7.372218e-03</td>\n",
       "      <td>1.595364e-02</td>\n",
       "      <td>-1.989996e-01</td>\n",
       "      <td>-4.338682e-01</td>\n",
       "    </tr>\n",
       "    <tr>\n",
       "      <th>75%</th>\n",
       "      <td>9.502791e-01</td>\n",
       "      <td>5.254107e-01</td>\n",
       "      <td>6.692175e-01</td>\n",
       "      <td>-3.274038e-01</td>\n",
       "      <td>1.572721e+00</td>\n",
       "      <td>7.811258e-01</td>\n",
       "      <td>6.540211e-01</td>\n",
       "      <td>6.859409e-01</td>\n",
       "      <td>6.031296e-01</td>\n",
       "      <td>3.255221e-01</td>\n",
       "    </tr>\n",
       "    <tr>\n",
       "      <th>max</th>\n",
       "      <td>9.502791e-01</td>\n",
       "      <td>4.283924e+00</td>\n",
       "      <td>3.572040e+00</td>\n",
       "      <td>3.054333e+00</td>\n",
       "      <td>1.572721e+00</td>\n",
       "      <td>3.639791e+00</td>\n",
       "      <td>3.189362e+00</td>\n",
       "      <td>2.953590e+00</td>\n",
       "      <td>5.816969e+00</td>\n",
       "      <td>5.641254e+00</td>\n",
       "    </tr>\n",
       "  </tbody>\n",
       "</table>\n",
       "</div>"
      ],
      "text/plain": [
       "             gender           age  no_of_days_subscribed  multi_screen  \\\n",
       "count  1.570000e+03  1.570000e+03           1.570000e+03  1.570000e+03   \n",
       "mean  -1.923444e-17  1.108809e-16           1.564124e-16  1.108809e-16   \n",
       "std    1.000319e+00  1.000319e+00           1.000319e+00  1.000319e+00   \n",
       "min   -1.052322e+00 -2.046204e+00          -2.483848e+00 -3.274038e-01   \n",
       "25%   -1.052322e+00 -6.614883e-01          -7.071206e-01 -3.274038e-01   \n",
       "50%    9.502791e-01 -1.669470e-01          -3.146371e-02 -3.274038e-01   \n",
       "75%    9.502791e-01  5.254107e-01           6.692175e-01 -3.274038e-01   \n",
       "max    9.502791e-01  4.283924e+00           3.572040e+00  3.054333e+00   \n",
       "\n",
       "       mail_subscribed  minimum_daily_mins  maximum_daily_mins  \\\n",
       "count     1.570000e+03        1.570000e+03        1.570000e+03   \n",
       "mean      1.158309e-16        2.600892e-16        8.966642e-17   \n",
       "std       1.000319e+00        1.000319e+00        1.000319e+00   \n",
       "min      -6.358407e-01       -3.506872e+00       -3.314339e+00   \n",
       "25%      -6.358407e-01       -6.482069e-01       -6.687655e-01   \n",
       "50%      -6.358407e-01        6.645942e-02       -7.372218e-03   \n",
       "75%       1.572721e+00        7.811258e-01        6.540211e-01   \n",
       "max       1.572721e+00        3.639791e+00        3.189362e+00   \n",
       "\n",
       "       weekly_max_night_mins  videos_watched  customer_support_calls  \n",
       "count           1.570000e+03    1.570000e+03            1.570000e+03  \n",
       "mean            7.198771e-17   -2.819047e-16            1.206395e-16  \n",
       "std             1.000319e+00    1.000319e+00            1.000319e+00  \n",
       "min            -3.024758e+00   -1.803258e+00           -1.193259e+00  \n",
       "25%            -6.540336e-01   -6.000641e-01           -4.338682e-01  \n",
       "50%             1.595364e-02   -1.989996e-01           -4.338682e-01  \n",
       "75%             6.859409e-01    6.031296e-01            3.255221e-01  \n",
       "max             2.953590e+00    5.816969e+00            5.641254e+00  "
      ]
     },
     "execution_count": 71,
     "metadata": {},
     "output_type": "execute_result"
    }
   ],
   "source": [
    "x_train_scaled.describe()"
   ]
  },
  {
   "cell_type": "code",
   "execution_count": 72,
   "id": "f15bafb6",
   "metadata": {},
   "outputs": [],
   "source": [
    "#now we can see that the range of features are almost same."
   ]
  },
  {
   "cell_type": "code",
   "execution_count": 73,
   "id": "96015a5b",
   "metadata": {},
   "outputs": [],
   "source": [
    "x_test_scaled = ss.transform(x_test)\n",
    "x_test_scaled = pd.DataFrame(x_test_scaled, columns = x_test.columns)"
   ]
  },
  {
   "cell_type": "code",
   "execution_count": 74,
   "id": "10707732",
   "metadata": {},
   "outputs": [
    {
     "data": {
      "text/html": [
       "<div>\n",
       "<style scoped>\n",
       "    .dataframe tbody tr th:only-of-type {\n",
       "        vertical-align: middle;\n",
       "    }\n",
       "\n",
       "    .dataframe tbody tr th {\n",
       "        vertical-align: top;\n",
       "    }\n",
       "\n",
       "    .dataframe thead th {\n",
       "        text-align: right;\n",
       "    }\n",
       "</style>\n",
       "<table border=\"1\" class=\"dataframe\">\n",
       "  <thead>\n",
       "    <tr style=\"text-align: right;\">\n",
       "      <th></th>\n",
       "      <th>gender</th>\n",
       "      <th>age</th>\n",
       "      <th>no_of_days_subscribed</th>\n",
       "      <th>multi_screen</th>\n",
       "      <th>mail_subscribed</th>\n",
       "      <th>minimum_daily_mins</th>\n",
       "      <th>maximum_daily_mins</th>\n",
       "      <th>weekly_max_night_mins</th>\n",
       "      <th>videos_watched</th>\n",
       "      <th>customer_support_calls</th>\n",
       "    </tr>\n",
       "  </thead>\n",
       "  <tbody>\n",
       "    <tr>\n",
       "      <th>0</th>\n",
       "      <td>0.950279</td>\n",
       "      <td>0.525411</td>\n",
       "      <td>-1.207607</td>\n",
       "      <td>-0.327404</td>\n",
       "      <td>-0.635841</td>\n",
       "      <td>-1.005540</td>\n",
       "      <td>0.213092</td>\n",
       "      <td>-0.705571</td>\n",
       "      <td>0.202065</td>\n",
       "      <td>1.084912</td>\n",
       "    </tr>\n",
       "    <tr>\n",
       "      <th>1</th>\n",
       "      <td>-1.052322</td>\n",
       "      <td>2.503576</td>\n",
       "      <td>-1.658045</td>\n",
       "      <td>-0.327404</td>\n",
       "      <td>-0.635841</td>\n",
       "      <td>-0.290874</td>\n",
       "      <td>-0.558533</td>\n",
       "      <td>-0.757109</td>\n",
       "      <td>1.004194</td>\n",
       "      <td>-1.193259</td>\n",
       "    </tr>\n",
       "    <tr>\n",
       "      <th>2</th>\n",
       "      <td>0.950279</td>\n",
       "      <td>3.591566</td>\n",
       "      <td>0.694242</td>\n",
       "      <td>-0.327404</td>\n",
       "      <td>1.572721</td>\n",
       "      <td>-0.648207</td>\n",
       "      <td>-0.007372</td>\n",
       "      <td>-1.169408</td>\n",
       "      <td>1.004194</td>\n",
       "      <td>-1.193259</td>\n",
       "    </tr>\n",
       "    <tr>\n",
       "      <th>3</th>\n",
       "      <td>-1.052322</td>\n",
       "      <td>1.910126</td>\n",
       "      <td>-0.256683</td>\n",
       "      <td>-0.327404</td>\n",
       "      <td>1.572721</td>\n",
       "      <td>-1.720206</td>\n",
       "      <td>-0.558533</td>\n",
       "      <td>-0.190196</td>\n",
       "      <td>-0.199000</td>\n",
       "      <td>-0.433868</td>\n",
       "    </tr>\n",
       "    <tr>\n",
       "      <th>4</th>\n",
       "      <td>0.950279</td>\n",
       "      <td>-1.156030</td>\n",
       "      <td>0.168731</td>\n",
       "      <td>3.054333</td>\n",
       "      <td>-0.635841</td>\n",
       "      <td>0.423793</td>\n",
       "      <td>1.756343</td>\n",
       "      <td>-1.736321</td>\n",
       "      <td>1.806323</td>\n",
       "      <td>0.325522</td>\n",
       "    </tr>\n",
       "  </tbody>\n",
       "</table>\n",
       "</div>"
      ],
      "text/plain": [
       "     gender       age  no_of_days_subscribed  multi_screen  mail_subscribed  \\\n",
       "0  0.950279  0.525411              -1.207607     -0.327404        -0.635841   \n",
       "1 -1.052322  2.503576              -1.658045     -0.327404        -0.635841   \n",
       "2  0.950279  3.591566               0.694242     -0.327404         1.572721   \n",
       "3 -1.052322  1.910126              -0.256683     -0.327404         1.572721   \n",
       "4  0.950279 -1.156030               0.168731      3.054333        -0.635841   \n",
       "\n",
       "   minimum_daily_mins  maximum_daily_mins  weekly_max_night_mins  \\\n",
       "0           -1.005540            0.213092              -0.705571   \n",
       "1           -0.290874           -0.558533              -0.757109   \n",
       "2           -0.648207           -0.007372              -1.169408   \n",
       "3           -1.720206           -0.558533              -0.190196   \n",
       "4            0.423793            1.756343              -1.736321   \n",
       "\n",
       "   videos_watched  customer_support_calls  \n",
       "0        0.202065                1.084912  \n",
       "1        1.004194               -1.193259  \n",
       "2        1.004194               -1.193259  \n",
       "3       -0.199000               -0.433868  \n",
       "4        1.806323                0.325522  "
      ]
     },
     "execution_count": 74,
     "metadata": {},
     "output_type": "execute_result"
    }
   ],
   "source": [
    "x_test_scaled.head()"
   ]
  },
  {
   "cell_type": "code",
   "execution_count": 75,
   "id": "66aec2c0",
   "metadata": {},
   "outputs": [
    {
     "data": {
      "text/html": [
       "<div>\n",
       "<style scoped>\n",
       "    .dataframe tbody tr th:only-of-type {\n",
       "        vertical-align: middle;\n",
       "    }\n",
       "\n",
       "    .dataframe tbody tr th {\n",
       "        vertical-align: top;\n",
       "    }\n",
       "\n",
       "    .dataframe thead th {\n",
       "        text-align: right;\n",
       "    }\n",
       "</style>\n",
       "<table border=\"1\" class=\"dataframe\">\n",
       "  <thead>\n",
       "    <tr style=\"text-align: right;\">\n",
       "      <th></th>\n",
       "      <th>gender</th>\n",
       "      <th>age</th>\n",
       "      <th>no_of_days_subscribed</th>\n",
       "      <th>multi_screen</th>\n",
       "      <th>mail_subscribed</th>\n",
       "      <th>minimum_daily_mins</th>\n",
       "      <th>maximum_daily_mins</th>\n",
       "      <th>weekly_max_night_mins</th>\n",
       "      <th>videos_watched</th>\n",
       "      <th>customer_support_calls</th>\n",
       "    </tr>\n",
       "  </thead>\n",
       "  <tbody>\n",
       "    <tr>\n",
       "      <th>count</th>\n",
       "      <td>395.000000</td>\n",
       "      <td>395.000000</td>\n",
       "      <td>395.000000</td>\n",
       "      <td>395.000000</td>\n",
       "      <td>395.000000</td>\n",
       "      <td>395.000000</td>\n",
       "      <td>395.000000</td>\n",
       "      <td>395.000000</td>\n",
       "      <td>395.000000</td>\n",
       "      <td>395.000000</td>\n",
       "    </tr>\n",
       "    <tr>\n",
       "      <th>mean</th>\n",
       "      <td>0.118819</td>\n",
       "      <td>0.004828</td>\n",
       "      <td>-0.063077</td>\n",
       "      <td>0.049296</td>\n",
       "      <td>-0.026389</td>\n",
       "      <td>-0.109946</td>\n",
       "      <td>0.017186</td>\n",
       "      <td>-0.060635</td>\n",
       "      <td>-0.011159</td>\n",
       "      <td>-0.101274</td>\n",
       "    </tr>\n",
       "    <tr>\n",
       "      <th>std</th>\n",
       "      <td>0.988043</td>\n",
       "      <td>1.041689</td>\n",
       "      <td>0.989223</td>\n",
       "      <td>1.065303</td>\n",
       "      <td>0.988460</td>\n",
       "      <td>0.969236</td>\n",
       "      <td>1.032464</td>\n",
       "      <td>1.034525</td>\n",
       "      <td>0.990341</td>\n",
       "      <td>0.973299</td>\n",
       "    </tr>\n",
       "    <tr>\n",
       "      <th>min</th>\n",
       "      <td>-1.052322</td>\n",
       "      <td>-1.947296</td>\n",
       "      <td>-2.483848</td>\n",
       "      <td>-0.327404</td>\n",
       "      <td>-0.635841</td>\n",
       "      <td>-3.506872</td>\n",
       "      <td>-2.873410</td>\n",
       "      <td>-3.024758</td>\n",
       "      <td>-1.803258</td>\n",
       "      <td>-1.193259</td>\n",
       "    </tr>\n",
       "    <tr>\n",
       "      <th>25%</th>\n",
       "      <td>-1.052322</td>\n",
       "      <td>-0.710942</td>\n",
       "      <td>-0.707121</td>\n",
       "      <td>-0.327404</td>\n",
       "      <td>-0.635841</td>\n",
       "      <td>-0.648207</td>\n",
       "      <td>-0.668765</td>\n",
       "      <td>-0.757109</td>\n",
       "      <td>-0.600064</td>\n",
       "      <td>-1.193259</td>\n",
       "    </tr>\n",
       "    <tr>\n",
       "      <th>50%</th>\n",
       "      <td>0.950279</td>\n",
       "      <td>-0.166947</td>\n",
       "      <td>-0.031464</td>\n",
       "      <td>-0.327404</td>\n",
       "      <td>-0.635841</td>\n",
       "      <td>-0.290874</td>\n",
       "      <td>0.102860</td>\n",
       "      <td>-0.035584</td>\n",
       "      <td>-0.199000</td>\n",
       "      <td>-0.433868</td>\n",
       "    </tr>\n",
       "    <tr>\n",
       "      <th>75%</th>\n",
       "      <td>0.950279</td>\n",
       "      <td>0.426502</td>\n",
       "      <td>0.631681</td>\n",
       "      <td>-0.327404</td>\n",
       "      <td>1.572721</td>\n",
       "      <td>0.423793</td>\n",
       "      <td>0.764253</td>\n",
       "      <td>0.685941</td>\n",
       "      <td>0.603130</td>\n",
       "      <td>0.325522</td>\n",
       "    </tr>\n",
       "    <tr>\n",
       "      <th>max</th>\n",
       "      <td>0.950279</td>\n",
       "      <td>3.789383</td>\n",
       "      <td>2.621115</td>\n",
       "      <td>3.054333</td>\n",
       "      <td>1.572721</td>\n",
       "      <td>2.925125</td>\n",
       "      <td>2.638201</td>\n",
       "      <td>3.829727</td>\n",
       "      <td>5.415904</td>\n",
       "      <td>3.363083</td>\n",
       "    </tr>\n",
       "  </tbody>\n",
       "</table>\n",
       "</div>"
      ],
      "text/plain": [
       "           gender         age  no_of_days_subscribed  multi_screen  \\\n",
       "count  395.000000  395.000000             395.000000    395.000000   \n",
       "mean     0.118819    0.004828              -0.063077      0.049296   \n",
       "std      0.988043    1.041689               0.989223      1.065303   \n",
       "min     -1.052322   -1.947296              -2.483848     -0.327404   \n",
       "25%     -1.052322   -0.710942              -0.707121     -0.327404   \n",
       "50%      0.950279   -0.166947              -0.031464     -0.327404   \n",
       "75%      0.950279    0.426502               0.631681     -0.327404   \n",
       "max      0.950279    3.789383               2.621115      3.054333   \n",
       "\n",
       "       mail_subscribed  minimum_daily_mins  maximum_daily_mins  \\\n",
       "count       395.000000          395.000000          395.000000   \n",
       "mean         -0.026389           -0.109946            0.017186   \n",
       "std           0.988460            0.969236            1.032464   \n",
       "min          -0.635841           -3.506872           -2.873410   \n",
       "25%          -0.635841           -0.648207           -0.668765   \n",
       "50%          -0.635841           -0.290874            0.102860   \n",
       "75%           1.572721            0.423793            0.764253   \n",
       "max           1.572721            2.925125            2.638201   \n",
       "\n",
       "       weekly_max_night_mins  videos_watched  customer_support_calls  \n",
       "count             395.000000      395.000000              395.000000  \n",
       "mean               -0.060635       -0.011159               -0.101274  \n",
       "std                 1.034525        0.990341                0.973299  \n",
       "min                -3.024758       -1.803258               -1.193259  \n",
       "25%                -0.757109       -0.600064               -1.193259  \n",
       "50%                -0.035584       -0.199000               -0.433868  \n",
       "75%                 0.685941        0.603130                0.325522  \n",
       "max                 3.829727        5.415904                3.363083  "
      ]
     },
     "execution_count": 75,
     "metadata": {},
     "output_type": "execute_result"
    }
   ],
   "source": [
    "x_test_scaled.describe()"
   ]
  },
  {
   "cell_type": "code",
   "execution_count": 76,
   "id": "2a79fe07",
   "metadata": {},
   "outputs": [],
   "source": [
    "#even in test dataset all the feature are in same range as seen in the above table."
   ]
  },
  {
   "cell_type": "code",
   "execution_count": 92,
   "id": "17d2126b",
   "metadata": {},
   "outputs": [
    {
     "data": {
      "text/plain": [
       "(1.0, 0.9037974683544304, 0.6078431372549019, 0.6326530612244898)"
      ]
     },
     "execution_count": 92,
     "metadata": {},
     "output_type": "execute_result"
    }
   ],
   "source": [
    "#Model Building and Validation.\n",
    "dt = DecisionTreeClassifier()\n",
    "\n",
    "dt.fit(x_train_scaled, y_train)\n",
    "\n",
    "train_pred = dt.predict(x_train_scaled)\n",
    "pred = dt.predict(x_test_scaled)\n",
    "\n",
    "train_acc = accuracy_score(y_train, train_pred)\n",
    "acc = accuracy_score(y_test, pred)\n",
    "prec = precision_score(y_test,pred)\n",
    "rec = recall_score(y_test, pred)\n",
    "train_acc , acc , prec , rec\n"
   ]
  },
  {
   "cell_type": "code",
   "execution_count": 89,
   "id": "5f1bf0a9",
   "metadata": {},
   "outputs": [],
   "source": [
    "#Let us do cross validation"
   ]
  },
  {
   "cell_type": "code",
   "execution_count": 97,
   "id": "fbcdf6e5",
   "metadata": {},
   "outputs": [
    {
     "data": {
      "text/plain": [
       "array([0.88535032, 0.83757962, 0.84713376, 0.84713376, 0.88535032])"
      ]
     },
     "execution_count": 97,
     "metadata": {},
     "output_type": "execute_result"
    }
   ],
   "source": [
    "cv = cross_validate(dt, x_train_scaled, y_train, scoring = \"accuracy\", cv=5)\n",
    "cv['test_score']"
   ]
  },
  {
   "cell_type": "code",
   "execution_count": 98,
   "id": "fd389c61",
   "metadata": {},
   "outputs": [
    {
     "data": {
      "text/plain": [
       "array([[1357,    0],\n",
       "       [   0,  213]], dtype=int64)"
      ]
     },
     "execution_count": 98,
     "metadata": {},
     "output_type": "execute_result"
    }
   ],
   "source": [
    "confusion_matrix(y_train, train_pred)"
   ]
  },
  {
   "cell_type": "code",
   "execution_count": 99,
   "id": "1efa885a",
   "metadata": {},
   "outputs": [
    {
     "data": {
      "text/plain": [
       "array([[326,  20],\n",
       "       [ 18,  31]], dtype=int64)"
      ]
     },
     "execution_count": 99,
     "metadata": {},
     "output_type": "execute_result"
    }
   ],
   "source": [
    "confusion_matrix(y_test, pred)"
   ]
  },
  {
   "cell_type": "code",
   "execution_count": 100,
   "id": "8a88ffa7",
   "metadata": {},
   "outputs": [],
   "source": [
    "#we can observe that there is clearly overfitting so we need to do hyper parameter tuning\n"
   ]
  },
  {
   "cell_type": "code",
   "execution_count": 101,
   "id": "08532f86",
   "metadata": {},
   "outputs": [
    {
     "name": "stdout",
     "output_type": "stream",
     "text": [
      "Fitting 5 folds for each of 260 candidates, totalling 1300 fits\n"
     ]
    },
    {
     "data": {
      "text/plain": [
       "GridSearchCV(cv=5, estimator=DecisionTreeClassifier(random_state=1024),\n",
       "             n_jobs=-1,\n",
       "             param_grid={'criterion': ['gini', 'entropy'],\n",
       "                         'max_depth': [3, 4, 5, 6, 7, 8, 9, 10, 12, 14, 16, 18,\n",
       "                                       20],\n",
       "                         'min_samples_split': [2, 3, 4, 5, 6, 7, 8, 9, 12, 14]},\n",
       "             scoring='accuracy', verbose=True)"
      ]
     },
     "execution_count": 101,
     "metadata": {},
     "output_type": "execute_result"
    }
   ],
   "source": [
    "from sklearn.model_selection import GridSearchCV\n",
    "\n",
    "param_grid = {'criterion' : ['gini', 'entropy'],\n",
    "              'min_samples_split' : [2,3,4,5,6,7,8,9,12,14],\n",
    "              'max_depth' : [3,4,5,6,7,8,9,10,12,14,16,18,20]\n",
    "             }\n",
    "tree_clas = DecisionTreeClassifier(random_state=1024)\n",
    "grid_search = GridSearchCV(estimator=tree_clas, scoring = \"accuracy\", param_grid=param_grid, cv=5, verbose=True, n_jobs=-1)\n",
    "grid_search.fit(x_train_scaled, y_train)"
   ]
  },
  {
   "cell_type": "code",
   "execution_count": 102,
   "id": "0dcd8049",
   "metadata": {},
   "outputs": [
    {
     "data": {
      "text/plain": [
       "DecisionTreeClassifier(criterion='entropy', max_depth=6, min_samples_split=9,\n",
       "                       random_state=1024)"
      ]
     },
     "execution_count": 102,
     "metadata": {},
     "output_type": "execute_result"
    }
   ],
   "source": [
    "grid_search.best_estimator_"
   ]
  },
  {
   "cell_type": "code",
   "execution_count": 103,
   "id": "bb638976",
   "metadata": {},
   "outputs": [],
   "source": [
    "dtc = DecisionTreeClassifier(random_state=1024, max_depth =6, min_samples_split=9)"
   ]
  },
  {
   "cell_type": "code",
   "execution_count": 111,
   "id": "a54a207f",
   "metadata": {},
   "outputs": [
    {
     "data": {
      "text/plain": [
       "(0.9452229299363057,\n",
       " 0.9316455696202531,\n",
       " 0.7619047619047619,\n",
       " 0.6530612244897959)"
      ]
     },
     "execution_count": 111,
     "metadata": {},
     "output_type": "execute_result"
    }
   ],
   "source": [
    "dtc.fit(x_train_scaled, y_train)\n",
    "\n",
    "train_pred = dtc.predict(x_train_scaled)\n",
    "pred = dtc.predict(x_test_scaled)\n",
    "\n",
    "train_acc = accuracy_score(y_train, train_pred)\n",
    "acc = accuracy_score(y_test, pred)\n",
    "prec = precision_score(y_test,pred)\n",
    "rec = recall_score(y_test, pred)\n",
    "train_acc , acc , prec , rec"
   ]
  },
  {
   "cell_type": "code",
   "execution_count": 112,
   "id": "4f978a33",
   "metadata": {},
   "outputs": [
    {
     "data": {
      "text/plain": [
       "array([[336,  10],\n",
       "       [ 17,  32]], dtype=int64)"
      ]
     },
     "execution_count": 112,
     "metadata": {},
     "output_type": "execute_result"
    }
   ],
   "source": [
    "confusion_matrix(y_test, pred)\n",
    "#better than before, missing prediction are minimized.."
   ]
  },
  {
   "cell_type": "code",
   "execution_count": 113,
   "id": "cc20d997",
   "metadata": {},
   "outputs": [
    {
     "data": {
      "text/plain": [
       "array([0.93312102, 0.89490446, 0.92356688, 0.91401274, 0.91719745])"
      ]
     },
     "execution_count": 113,
     "metadata": {},
     "output_type": "execute_result"
    }
   ],
   "source": [
    "cv = cross_validate(dtc, x_train_scaled, y_train, scoring = \"accuracy\", cv=5)\n",
    "cv['test_score']"
   ]
  },
  {
   "cell_type": "code",
   "execution_count": null,
   "id": "226c1ef7",
   "metadata": {},
   "outputs": [],
   "source": [
    "#since all the 5 values are close , Hence this is the best model for given parameter..\n",
    "# Thank You Verzeo"
   ]
  }
 ],
 "metadata": {
  "kernelspec": {
   "display_name": "Python 3 (ipykernel)",
   "language": "python",
   "name": "python3"
  },
  "language_info": {
   "codemirror_mode": {
    "name": "ipython",
    "version": 3
   },
   "file_extension": ".py",
   "mimetype": "text/x-python",
   "name": "python",
   "nbconvert_exporter": "python",
   "pygments_lexer": "ipython3",
   "version": "3.9.12"
  }
 },
 "nbformat": 4,
 "nbformat_minor": 5
}
